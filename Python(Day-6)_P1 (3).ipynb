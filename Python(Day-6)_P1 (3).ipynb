{
 "cells": [
  {
   "cell_type": "code",
   "execution_count": 20,
   "metadata": {},
   "outputs": [
    {
     "name": "stdout",
     "output_type": "stream",
     "text": [
      "Enter first number:72\n",
      "Enter second number:27\n",
      "Enter third number:97\n",
      "97 is the greatest number\n"
     ]
    }
   ],
   "source": [
    "#Find larger number from given 3 numbers\n",
    "a=int(input(\"Enter first number:\"))\n",
    "b=int(input(\"Enter second number:\"))\n",
    "c=int(input(\"Enter third number:\"))\n",
    "if a>b and a>c :\n",
    "    print(a,\"is the greatest number\")\n",
    "elif b>a and b>c:\n",
    "    print(b,\"is the greatest number\")\n",
    "else:\n",
    "    print(c,\"is the greatest number\")   "
   ]
  },
  {
   "cell_type": "code",
   "execution_count": 17,
   "metadata": {},
   "outputs": [
    {
     "name": "stdout",
     "output_type": "stream",
     "text": [
      "Enter the year:2000\n",
      "2000 is a leap year\n"
     ]
    }
   ],
   "source": [
    "#To check if a year is leapyear or not\n",
    "n=int(input(\"Enter the year:\"))\n",
    "if n%4==0 and n%100!=0 or n%400==0:\n",
    "    print(n,\"is a leap year\")\n",
    "else:\n",
    "    print(n,\"is not a leap year\")"
   ]
  },
  {
   "cell_type": "code",
   "execution_count": 22,
   "metadata": {},
   "outputs": [
    {
     "name": "stdout",
     "output_type": "stream",
     "text": [
      "GITAM\n",
      "GITAM\n",
      "GITAM\n",
      "GITAM\n",
      "GITAM\n"
     ]
    }
   ],
   "source": [
    "#Print GITAM for 5 times\n",
    "i=1\n",
    "while i<=5 :\n",
    "    print(\"GITAM\")\n",
    "    i=i+1"
   ]
  },
  {
   "cell_type": "code",
   "execution_count": 1,
   "metadata": {},
   "outputs": [
    {
     "name": "stdout",
     "output_type": "stream",
     "text": [
      "Enter the value of n:10\n",
      "1    2    3    4    5    6    7    8    9    10    "
     ]
    }
   ],
   "source": [
    "#Print numbers from1 to n using while loop\n",
    "n=int(input(\"Enter the value of n:\"))\n",
    "i=1\n",
    "while i<=n:\n",
    "    print(i,end=\"    \")\n",
    "    i=i+1"
   ]
  },
  {
   "cell_type": "code",
   "execution_count": 2,
   "metadata": {},
   "outputs": [
    {
     "name": "stdout",
     "output_type": "stream",
     "text": [
      "Enter the value of n:10\n",
      "Sum of even numbers within the given range is: 30\n"
     ]
    }
   ],
   "source": [
    "#Read a number and adding all even numbers from 1to n\n",
    "n=int(input(\"Enter the value of n:\"))\n",
    "i=1\n",
    "sum=0\n",
    "while i<=n :\n",
    "    if i%2==0 :\n",
    "        sum=sum+i\n",
    "    i=i+1\n",
    "print(\"Sum of even numbers within the given range is:\",sum)"
   ]
  },
  {
   "cell_type": "code",
   "execution_count": 1,
   "metadata": {},
   "outputs": [
    {
     "name": "stdout",
     "output_type": "stream",
     "text": [
      "Enter the value of n:10\n",
      "Sumof odd numbers within the given range is: 25\n"
     ]
    }
   ],
   "source": [
    "#Read a number and adding all odd numbers from 1 to n\n",
    "n=int(input(\"Enter the value of n:\"))\n",
    "i=0\n",
    "sum=0\n",
    "while i<=n :\n",
    "    if i%2!=0 :\n",
    "        sum=sum+i\n",
    "    i=i+1\n",
    "print(\"Sumof odd numbers within the given range is:\",sum)"
   ]
  },
  {
   "cell_type": "code",
   "execution_count": 4,
   "metadata": {},
   "outputs": [
    {
     "name": "stdout",
     "output_type": "stream",
     "text": [
      "Enter a number:25\n",
      "Given number is an Odd number\n"
     ]
    }
   ],
   "source": [
    "#Checking if a number is even nuber or odd number\n",
    "n=int(input(\"Enter a number:\"))\n",
    "if n%2==0:\n",
    "    print(\"Given number is an Even number\")\n",
    "else:\n",
    "    print(\"Given number is an Odd number\")\n",
    "      "
   ]
  },
  {
   "cell_type": "code",
   "execution_count": 5,
   "metadata": {},
   "outputs": [
    {
     "name": "stdout",
     "output_type": "stream",
     "text": [
      "Enter a number:1234\n",
      "Given number in normal order is: 1234\n",
      "Given numbver in reverse order is: 4321\n"
     ]
    }
   ],
   "source": [
    "#Print the digits of a given number in reverse order\n",
    "n=int(input(\"Enter a number:\"))\n",
    "t=n\n",
    "rev=0\n",
    "rem=0\n",
    "while n!=0 :\n",
    "    rem=n%10\n",
    "    n=n//10\n",
    "    rev=rev*10+rem\n",
    "print(\"Given number in normal order is:\",t)\n",
    "print(\"Given numbver in reverse order is:\",rev)"
   ]
  },
  {
   "cell_type": "code",
   "execution_count": 8,
   "metadata": {},
   "outputs": [
    {
     "name": "stdout",
     "output_type": "stream",
     "text": [
      "Enter a number:10\n",
      "10   9   8   7   6   5   4   3   2   1   "
     ]
    }
   ],
   "source": [
    "#Printing n to 1 numbers in reverse order\n",
    "n=int(input(\"Enter a number:\"))\n",
    "while n>0:\n",
    "    print(n,end=\"   \")\n",
    "    n=n-1"
   ]
  },
  {
   "cell_type": "markdown",
   "metadata": {},
   "source": [
    "### Functional Programming\n",
    "-*Simple*\n",
    "-**Easy to read**\n",
    "-***Lenghty Program gets divided into sub programs***"
   ]
  },
  {
   "cell_type": "code",
   "execution_count": 51,
   "metadata": {},
   "outputs": [
    {
     "data": {
      "text/plain": [
       "6"
      ]
     },
     "execution_count": 51,
     "metadata": {},
     "output_type": "execute_result"
    }
   ],
   "source": [
    "#Read a number --1234\n",
    "#Output --6(2+4)\n",
    "#def addEvenDigits(n):\n",
    "    #statements to compute the output of the program\n",
    "    #return\n",
    "#add even digits(1234)\n",
    "def addEvenDigits(n):\n",
    "    sum=0\n",
    "    while n!=0:\n",
    "        r=n%10\n",
    "        if r%2==0:\n",
    "            sum=sum+r\n",
    "        n=n//10\n",
    "    return sum \n",
    "       #Statements to compute the output of the program\n",
    "    return\n",
    "addEvenDigits(1234)\n",
    "        "
   ]
  },
  {
   "cell_type": "code",
   "execution_count": 42,
   "metadata": {},
   "outputs": [
    {
     "name": "stdout",
     "output_type": "stream",
     "text": [
      "Enter a number:123456\n",
      "Sum of even digits= 12\n"
     ]
    }
   ],
   "source": [
    "#Adding all the even numbers of the given number\n",
    "n=int(input(\"Enter a number:\"))\n",
    "rem=0\n",
    "s=0\n",
    "while n!=0:\n",
    "        rem=n%10\n",
    "        n=n//10\n",
    "        if rem%2==0:\n",
    "            s=s+rem\n",
    "print(\"Sum of even digits=\",s)"
   ]
  },
  {
   "cell_type": "code",
   "execution_count": 53,
   "metadata": {},
   "outputs": [
    {
     "data": {
      "text/plain": [
       "9"
      ]
     },
     "execution_count": 53,
     "metadata": {},
     "output_type": "execute_result"
    }
   ],
   "source": [
    "#Print the largest digit in the given number\n",
    "def printLarge(n):\n",
    "    large=0\n",
    "    while n!=0:\n",
    "        r=n%10\n",
    "        if large<r:    #Checking the condition whether r is greater than large or not\n",
    "            large=r\n",
    "        n=n//10\n",
    "    return large\n",
    "printLarge(19528)"
   ]
  },
  {
   "cell_type": "code",
   "execution_count": 54,
   "metadata": {},
   "outputs": [
    {
     "name": "stdout",
     "output_type": "stream",
     "text": [
      "Entered number is: 123\n",
      "Reverse number is: 321\n"
     ]
    },
    {
     "data": {
      "text/plain": [
       "321"
      ]
     },
     "execution_count": 54,
     "metadata": {},
     "output_type": "execute_result"
    }
   ],
   "source": [
    "def ReverseNumber(n):\n",
    "    t=n\n",
    "    rem=0\n",
    "    rev=0\n",
    "    while n!=0:\n",
    "        rem=n%10\n",
    "        n=n//10\n",
    "        rev=rev*10+rem\n",
    "    print(\"Entered number is:\",t)\n",
    "    print(\"Reverse number is:\",rev)\n",
    "    return rev\n",
    "ReverseNumber(123)"
   ]
  },
  {
   "cell_type": "code",
   "execution_count": 64,
   "metadata": {},
   "outputs": [
    {
     "data": {
      "text/plain": [
       "'It is a Palindrome'"
      ]
     },
     "execution_count": 64,
     "metadata": {},
     "output_type": "execute_result"
    }
   ],
   "source": [
    "def ispalindrome(n):\n",
    "    t=n\n",
    "    rem=0\n",
    "    rev=0\n",
    "    while n!=0:\n",
    "        rem=n%10\n",
    "        n=n//10\n",
    "        rev=rev*10+rem\n",
    "    if t==rev:\n",
    "        return \"It is a Palindrome\"\n",
    "    else:\n",
    "        return \"It is not a palindrome\"\n",
    "ispalindrome(7564657)"
   ]
  },
  {
   "cell_type": "code",
   "execution_count": 68,
   "metadata": {},
   "outputs": [
    {
     "data": {
      "text/plain": [
       "'It is an Odd number'"
      ]
     },
     "execution_count": 68,
     "metadata": {},
     "output_type": "execute_result"
    }
   ],
   "source": [
    "def IsEvenorOdd(n):\n",
    "    if n%2==0:\n",
    "        return \"It is an Even number\"\n",
    "    else:\n",
    "        return \"It is an Odd number\"\n",
    "IsEvenorOdd(4567)"
   ]
  },
  {
   "cell_type": "code",
   "execution_count": 84,
   "metadata": {},
   "outputs": [
    {
     "name": "stdout",
     "output_type": "stream",
     "text": [
      "1    2    3    4    5    6    7    8    9    10    "
     ]
    }
   ],
   "source": [
    "#Print 1 to n numbers using forloop\n",
    "# Syntax of for loop : for i in range(1,n+1):\n",
    "def printing1_to_nNumbers(n):\n",
    "    for i in range(1,n+1):\n",
    "        print(i,end=\"    \")\n",
    "    return\n",
    "printing1_to_nNumbers(10)"
   ]
  },
  {
   "cell_type": "code",
   "execution_count": 87,
   "metadata": {},
   "outputs": [
    {
     "name": "stdout",
     "output_type": "stream",
     "text": [
      "GITAM  GITAM  GITAM  GITAM  GITAM  "
     ]
    }
   ],
   "source": [
    "s=\"GITAM\"\n",
    "for i in range(1,6):\n",
    "    print(s,end=\"  \")"
   ]
  },
  {
   "cell_type": "code",
   "execution_count": 98,
   "metadata": {},
   "outputs": [],
   "source": [
    "def fun(n):\n",
    "    s=\"GITAM\"\n",
    "    for i in range(1,n+1):\n",
    "        return s\n",
    "    fun(5)"
   ]
  },
  {
   "cell_type": "code",
   "execution_count": 100,
   "metadata": {},
   "outputs": [
    {
     "name": "stdout",
     "output_type": "stream",
     "text": [
      "100   104   108   112   116   120   124   128   132   136   140   144   148   "
     ]
    }
   ],
   "source": [
    "def alternateNumbers(lb,ub):\n",
    "    for i in range(lb,ub+1,4):\n",
    "        print(i,end=\"   \")\n",
    "    return\n",
    "alternateNumbers(100,150)"
   ]
  },
  {
   "cell_type": "code",
   "execution_count": 102,
   "metadata": {},
   "outputs": [
    {
     "name": "stdout",
     "output_type": "stream",
     "text": [
      "10   9   8   7   6   5   4   3   2   1   "
     ]
    }
   ],
   "source": [
    "def Reverse(start,end):\n",
    "    for i in range(end,start-1,-1):\n",
    "        print(i,end=\"   \")\n",
    "    return\n",
    "Reverse(1,10)"
   ]
  },
  {
   "cell_type": "code",
   "execution_count": null,
   "metadata": {},
   "outputs": [],
   "source": []
  }
 ],
 "metadata": {
  "kernelspec": {
   "display_name": "Python 3",
   "language": "python",
   "name": "python3"
  },
  "language_info": {
   "codemirror_mode": {
    "name": "ipython",
    "version": 3
   },
   "file_extension": ".py",
   "mimetype": "text/x-python",
   "name": "python",
   "nbconvert_exporter": "python",
   "pygments_lexer": "ipython3",
   "version": "3.7.3"
  }
 },
 "nbformat": 4,
 "nbformat_minor": 2
}
