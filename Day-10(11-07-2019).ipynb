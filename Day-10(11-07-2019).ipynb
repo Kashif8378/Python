{
 "cells": [
  {
   "cell_type": "markdown",
   "metadata": {},
   "source": [
    "### Standard libraries\n",
    "- File I/O\n",
    "- Regular Expression\n",
    "- Datetime\n",
    "- Math (numerical and mathematical)"
   ]
  },
  {
   "cell_type": "markdown",
   "metadata": {},
   "source": [
    "Write,Read,Analysis -- Data Science and Analysis"
   ]
  },
  {
   "cell_type": "markdown",
   "metadata": {},
   "source": [
    "### File handling in python\n",
    "- File: Document containing information resides on the permanent storage\n",
    "- Different types of files: txt,doc,pdf,csv and etc.,\n",
    "- Input --Keyboard\n",
    "- Output -- File \n",
    "\n",
    "### Modes of the File I/O\n",
    "- 'w' -- This mode is used to write the file data\n",
    "      -- If the file is not present first it creates the file and write some data in it"
   ]
  },
  {
   "cell_type": "code",
   "execution_count": 2,
   "metadata": {},
   "outputs": [
    {
     "name": "stdout",
     "output_type": "stream",
     "text": [
      "File is created and data has been written\n"
     ]
    }
   ],
   "source": [
    "#Function to create a file and write to the file\n",
    "def createFile(filename):\n",
    "    f=open(filename,'w')\n",
    "    for i in range(10):\n",
    "        f.write('This is %d Line'%i)\n",
    "    print(\"File is created and data has been written\")\n",
    "    return\n",
    "createFile('file1.txt')"
   ]
  },
  {
   "cell_type": "code",
   "execution_count": 3,
   "metadata": {},
   "outputs": [
    {
     "name": "stdout",
     "output_type": "stream",
     "text": [
      " Volume in drive C has no label.\n",
      " Volume Serial Number is FC0C-0F9A\n",
      "\n",
      " Directory of C:\\Users\\240\n",
      "\n",
      "11-07-2019  09:36    <DIR>          .\n",
      "11-07-2019  09:36    <DIR>          ..\n",
      "06-05-2019  04:06    <DIR>          .anaconda\n",
      "17-03-2017  05:18               145 .appletviewer\n",
      "26-06-2019  12:25             3,052 .bash_history\n",
      "02-11-2017  10:24                 0 .cdtclient\n",
      "09-07-2019  17:06    <DIR>          .conda\n",
      "09-07-2019  16:53                43 .condarc\n",
      "19-06-2019  15:43                55 .gitconfig\n",
      "11-07-2019  09:11    <DIR>          .ipynb_checkpoints\n",
      "06-05-2019  04:12    <DIR>          .ipython\n",
      "08-05-2019  09:19    <DIR>          .jupyter\n",
      "18-05-2019  09:18    <DIR>          .matplotlib\n",
      "07-03-2019  09:51    <DIR>          .oracle_jre_usage\n",
      "22-06-2019  09:15             1,006 .viminfo\n",
      "22-06-2019  09:25    <DIR>          .vscode\n",
      "17-03-2017  09:34                 0 0\n",
      "15-05-2019  12:28             4,351 15-05-2019.ipynb\n",
      "06-05-2019  04:51    <DIR>          Anaconda Python\n",
      "06-05-2019  05:15    <DIR>          Anaconda3\n",
      "10-07-2019  15:14            11,324 Assignment(10-07-2019).ipynb\n",
      "12-12-2016  05:55            36,757 avt.mdl\n",
      "14-12-2016  04:22            31,959 class38.mdl\n",
      "12-12-2016  05:17            21,591 comp.mdl\n",
      "08-05-2019  08:38    <DIR>          Contacts\n",
      "11-07-2019  09:35             1,739 Day-10(11-07-2019).ipynb\n",
      "10-07-2019  12:51             6,830 Day-5(05-07-2019).ipynb\n",
      "08-07-2019  16:09            12,080 Day-7.ipynb\n",
      "08-07-2019  16:10            12,080 Day-7_Python.ipynb\n",
      "10-07-2019  09:20            13,946 Day-8_Python.ipynb\n",
      "10-07-2019  16:40            24,108 Day-9(10-07-2019).ipynb\n",
      "12-12-2016  04:53            46,808 demo seq.md~\n",
      "12-12-2016  04:54            46,820 demo seq.mdl\n",
      "12-12-2016  04:24            30,092 demo.mdl\n",
      "08-07-2019  16:35    <DIR>          Desktop\n",
      "19-06-2019  16:05    <DIR>          Documents\n",
      "10-07-2019  17:13    <DIR>          Downloads\n",
      "08-05-2019  08:38    <DIR>          Favorites\n",
      "11-07-2019  09:36               140 file1.txt\n",
      "08-05-2019  08:38    <DIR>          Links\n",
      "06-12-2016  04:46                 0 mkdir\n",
      "08-05-2019  08:38    <DIR>          Music\n",
      "27-09-2018  06:24               724 oraclecon.java\n",
      "08-05-2019  08:38    <DIR>          Pictures\n",
      "12-05-2019  06:56    <DIR>          pranathi\n",
      "08-07-2019  15:58            12,080 Python(Day 7)_P1.ipynb\n",
      "08-07-2019  16:44            11,732 Python(Day-6)_P1.ipynb\n",
      "18-05-2019  09:42    <DIR>          PythonNotebooks\n",
      "08-05-2019  08:38    <DIR>          Saved Games\n",
      "08-05-2019  08:38    <DIR>          Searches\n",
      "15-05-2019  06:42                 0 test.py\n",
      "15-05-2019  07:19    <DIR>          Untitled Folder\n",
      "06-05-2019  04:15               548 Untitled.ipynb\n",
      "06-05-2019  04:29                72 Untitled1.ipynb\n",
      "15-05-2019  06:42                72 Untitled10.ipynb\n",
      "16-05-2019  10:47               555 Untitled11.ipynb\n",
      "18-05-2019  05:39             1,229 Untitled12.ipynb\n",
      "06-07-2019  09:21                72 Untitled13.ipynb\n",
      "08-07-2019  16:53               555 Untitled14.ipynb\n",
      "09-07-2019  15:49             9,204 Untitled15.ipynb\n",
      "09-07-2019  17:04             1,688 Untitled16.ipynb\n",
      "10-07-2019  11:59             1,489 Untitled17.ipynb\n",
      "06-05-2019  04:30                72 Untitled2.ipynb\n",
      "06-05-2019  04:35                72 Untitled3.ipynb\n",
      "06-05-2019  04:41                72 Untitled4.ipynb\n",
      "06-05-2019  04:43                72 Untitled5.ipynb\n",
      "06-05-2019  05:16                72 Untitled6.ipynb\n",
      "14-05-2019  05:31             3,982 Untitled7.ipynb\n",
      "08-05-2019  09:29                72 Untitled8.ipynb\n",
      "09-05-2019  04:42               555 Untitled9.ipynb\n",
      "08-05-2019  08:38    <DIR>          Videos\n",
      "05-01-2017  04:15    <DIR>          workspace\n",
      "              45 File(s)        349,915 bytes\n",
      "              27 Dir(s)  75,257,094,144 bytes free\n"
     ]
    }
   ],
   "source": [
    "ls"
   ]
  },
  {
   "cell_type": "code",
   "execution_count": 6,
   "metadata": {},
   "outputs": [
    {
     "name": "stdout",
     "output_type": "stream",
     "text": [
      "File is created and data has been written\n"
     ]
    }
   ],
   "source": [
    "def createFile(filename):\n",
    "    f=open(filename,'w')\n",
    "    f.write(\"Testing...\\n\")\n",
    "    print(\"File is created and data has been written\")\n",
    "    return\n",
    "createFile('file1.txt')"
   ]
  },
  {
   "cell_type": "code",
   "execution_count": 16,
   "metadata": {},
   "outputs": [
    {
     "name": "stdout",
     "output_type": "stream",
     "text": [
      "File Created and data is successfully written\n"
     ]
    }
   ],
   "source": [
    "def appendData(filename):\n",
    "    f=open(filename,'a')\n",
    "    for i in range(10):\n",
    "        f.write(\"This is line:%d \\n\" %i)\n",
    "    print(\"File Created and data is successfully written\")\n",
    "    return\n",
    "appendData('file2.txt')"
   ]
  },
  {
   "cell_type": "code",
   "execution_count": 18,
   "metadata": {},
   "outputs": [
    {
     "name": "stdout",
     "output_type": "stream",
     "text": [
      "File Created and data is successfully written\n"
     ]
    }
   ],
   "source": [
    "def appendData(filename):\n",
    "    f=open(filename,'a')\n",
    "    f.write(\"New Line 1 \\n\")\n",
    "    f.write(\"New Line 2 \\n\")\n",
    "    print(\"File Created and data is successfully written\")\n",
    "    f.close()\n",
    "    return\n",
    "appendData('file2.txt')"
   ]
  },
  {
   "cell_type": "code",
   "execution_count": 19,
   "metadata": {},
   "outputs": [
    {
     "name": "stdout",
     "output_type": "stream",
     "text": [
      "This is line:0 \n",
      "This is line:1 \n",
      "This is line:2 \n",
      "This is line:3 \n",
      "This is line:4 \n",
      "This is line:5 \n",
      "This is line:6 \n",
      "This is line:7 \n",
      "This is line:8 \n",
      "This is line:9 \n",
      "New Line 1 \n",
      "New Line 2 \n",
      "\n"
     ]
    }
   ],
   "source": [
    "# Function to read the file\n",
    "def ReadFileData(filename):\n",
    "    f=open(filename,'r')\n",
    "    if f.mode =='r':\n",
    "        x=f.read()\n",
    "        print(x)\n",
    "    f.close()\n",
    "    return\n",
    "ReadFileData('file2.txt')"
   ]
  },
  {
   "cell_type": "code",
   "execution_count": 3,
   "metadata": {},
   "outputs": [
    {
     "name": "stdout",
     "output_type": "stream",
     "text": [
      "Enter the file name: file3.txt\n",
      "Enter the mode of the file: r\n",
      "Data to the file\n"
     ]
    }
   ],
   "source": [
    "# Function to read the file\n",
    "def FileOperations(filename,mode):\n",
    "    with open(filename,mode) as f:\n",
    "        if f.mode =='r':\n",
    "            data=f.read()\n",
    "            print(data)\n",
    "        elif f.mode =='a':\n",
    "            f.write('Data to the file')\n",
    "            print('The data is successfully written')\n",
    "        f.close()\n",
    "        return\n",
    "filename=input('Enter the file name: ')\n",
    "mode=input('Enter the mode of the file: ')\n",
    "FileOperations(filename,mode)"
   ]
  },
  {
   "cell_type": "code",
   "execution_count": 5,
   "metadata": {},
   "outputs": [
    {
     "name": "stdout",
     "output_type": "stream",
     "text": [
      "Enter the file name:file2.txt\n",
      "Enter the word:This\n"
     ]
    },
    {
     "data": {
      "text/plain": [
       "10"
      ]
     },
     "execution_count": 5,
     "metadata": {},
     "output_type": "execute_result"
    }
   ],
   "source": [
    "# Data Analysis\n",
    "# Word count program\n",
    "def WordCount(filename,word):\n",
    "    with open(filename,'r') as f:\n",
    "        if f.mode=='r':\n",
    "            x=f.read()\n",
    "            li=x.split() #It is the string with whitespace\n",
    "    cnt=li.count(word)\n",
    "    return cnt\n",
    "filename=input('Enter the file name:')\n",
    "word=input('Enter the word:') # Which word count you need\n",
    "WordCount(filename,word)"
   ]
  },
  {
   "cell_type": "code",
   "execution_count": 9,
   "metadata": {},
   "outputs": [
    {
     "name": "stdout",
     "output_type": "stream",
     "text": [
      "Enter the filename:file2.txt\n"
     ]
    },
    {
     "data": {
      "text/plain": [
       "184"
      ]
     },
     "execution_count": 9,
     "metadata": {},
     "output_type": "execute_result"
    }
   ],
   "source": [
    "#Finding the character count in the given file\n",
    "def charCount(filename):\n",
    "    with open(filename,'r') as f:\n",
    "        if f.mode == 'r':\n",
    "            x=f.read()\n",
    "            li=list(x)\n",
    "    return len(li)\n",
    "filename=input('Enter the filename:')\n",
    "charCount(filename)"
   ]
  },
  {
   "cell_type": "code",
   "execution_count": 12,
   "metadata": {},
   "outputs": [
    {
     "name": "stdout",
     "output_type": "stream",
     "text": [
      "Enter the filename:file2.txt\n"
     ]
    },
    {
     "data": {
      "text/plain": [
       "13"
      ]
     },
     "execution_count": 12,
     "metadata": {},
     "output_type": "execute_result"
    }
   ],
   "source": [
    "#Function to find the no. of lines in the input file\n",
    "#Input -- filename(file2.txt)\n",
    "#output -- No. of lines(13)\n",
    "def lineCount(filename):\n",
    "    with open(filename,'r') as f:\n",
    "        if f.mode=='r':\n",
    "            x=f.read()\n",
    "            li=x.split(\"\\n\")\n",
    "        return len(li)\n",
    "filename = input(\"Enter the filename:\")\n",
    "lineCount(filename)"
   ]
  },
  {
   "cell_type": "code",
   "execution_count": 14,
   "metadata": {},
   "outputs": [
    {
     "name": "stdout",
     "output_type": "stream",
     "text": [
      "Enter the filename: file2.txt\n"
     ]
    },
    {
     "data": {
      "text/plain": [
       "{'Upper Case = 14 ,Lower Case= 100 '}"
      ]
     },
     "execution_count": 14,
     "metadata": {},
     "output_type": "execute_result"
    }
   ],
   "source": [
    "#Function to count the upper and lower case characters\n",
    "def CaseCount(filename):\n",
    "    cntUpper=0\n",
    "    cntLower=0\n",
    "    with open(filename,'r') as f:\n",
    "        if f.mode=='r':\n",
    "            x=f.read()\n",
    "            li=list(x)\n",
    "        for i in li:\n",
    "            if i.isupper():\n",
    "                cntUpper+=1\n",
    "            elif i.islower():\n",
    "                cntLower+=1\n",
    "        output = {'Upper Case = {0} ,Lower Case= {1} '.format(cntUpper,cntLower)}\n",
    "        return output\n",
    "filename= input(\"Enter the filename: \")\n",
    "CaseCount(filename)"
   ]
  },
  {
   "cell_type": "markdown",
   "metadata": {},
   "source": [
    "### Math,Random,OS\n",
    "- OS package it contains the certain methods which works with OS"
   ]
  },
  {
   "cell_type": "code",
   "execution_count": 16,
   "metadata": {},
   "outputs": [
    {
     "name": "stdout",
     "output_type": "stream",
     "text": [
      " Volume in drive C has no label.\n",
      " Volume Serial Number is FC0C-0F9A\n",
      "\n",
      " Directory of C:\\Users\\240\n",
      "\n",
      "11-07-2019  12:34    <DIR>          .\n",
      "11-07-2019  12:34    <DIR>          ..\n",
      "06-05-2019  04:06    <DIR>          .anaconda\n",
      "17-03-2017  05:18               145 .appletviewer\n",
      "26-06-2019  12:25             3,052 .bash_history\n",
      "02-11-2017  10:24                 0 .cdtclient\n",
      "09-07-2019  17:06    <DIR>          .conda\n",
      "09-07-2019  16:53                43 .condarc\n",
      "19-06-2019  15:43                55 .gitconfig\n",
      "11-07-2019  09:11    <DIR>          .ipynb_checkpoints\n",
      "06-05-2019  04:12    <DIR>          .ipython\n",
      "08-05-2019  09:19    <DIR>          .jupyter\n",
      "18-05-2019  09:18    <DIR>          .matplotlib\n",
      "07-03-2019  09:51    <DIR>          .oracle_jre_usage\n",
      "22-06-2019  09:15             1,006 .viminfo\n",
      "22-06-2019  09:25    <DIR>          .vscode\n",
      "17-03-2017  09:34                 0 0\n",
      "15-05-2019  12:28             4,351 15-05-2019.ipynb\n",
      "06-05-2019  04:51    <DIR>          Anaconda Python\n",
      "06-05-2019  05:15    <DIR>          Anaconda3\n",
      "10-07-2019  15:14            11,324 Assignment(10-07-2019).ipynb\n",
      "12-12-2016  05:55            36,757 avt.mdl\n",
      "14-12-2016  04:22            31,959 class38.mdl\n",
      "12-12-2016  05:17            21,591 comp.mdl\n",
      "08-05-2019  08:38    <DIR>          Contacts\n",
      "11-07-2019  12:34            13,881 Day-10(11-07-2019).ipynb\n",
      "10-07-2019  12:51             6,830 Day-5(05-07-2019).ipynb\n",
      "08-07-2019  16:09            12,080 Day-7.ipynb\n",
      "08-07-2019  16:10            12,080 Day-7_Python.ipynb\n",
      "10-07-2019  09:20            13,946 Day-8_Python.ipynb\n",
      "10-07-2019  16:40            24,108 Day-9(10-07-2019).ipynb\n",
      "12-12-2016  04:53            46,808 demo seq.md~\n",
      "12-12-2016  04:54            46,820 demo seq.mdl\n",
      "12-12-2016  04:24            30,092 demo.mdl\n",
      "11-07-2019  12:27    <DIR>          Desktop\n",
      "19-06-2019  16:05    <DIR>          Documents\n",
      "10-07-2019  17:13    <DIR>          Downloads\n",
      "08-05-2019  08:38    <DIR>          Favorites\n",
      "11-07-2019  09:51                12 file1.txt\n",
      "11-07-2019  10:18               196 file2.txt\n",
      "11-07-2019  10:27                16 file3.txt\n",
      "08-05-2019  08:38    <DIR>          Links\n",
      "06-12-2016  04:46                 0 mkdir\n",
      "08-05-2019  08:38    <DIR>          Music\n",
      "27-09-2018  06:24               724 oraclecon.java\n",
      "08-05-2019  08:38    <DIR>          Pictures\n",
      "12-05-2019  06:56    <DIR>          pranathi\n",
      "08-07-2019  15:58            12,080 Python(Day 7)_P1.ipynb\n",
      "08-07-2019  16:44            11,732 Python(Day-6)_P1.ipynb\n",
      "18-05-2019  09:42    <DIR>          PythonNotebooks\n",
      "08-05-2019  08:38    <DIR>          Saved Games\n",
      "08-05-2019  08:38    <DIR>          Searches\n",
      "15-05-2019  06:42                 0 test.py\n",
      "15-05-2019  07:19    <DIR>          Untitled Folder\n",
      "06-05-2019  04:15               548 Untitled.ipynb\n",
      "06-05-2019  04:29                72 Untitled1.ipynb\n",
      "15-05-2019  06:42                72 Untitled10.ipynb\n",
      "16-05-2019  10:47               555 Untitled11.ipynb\n",
      "18-05-2019  05:39             1,229 Untitled12.ipynb\n",
      "06-07-2019  09:21                72 Untitled13.ipynb\n",
      "08-07-2019  16:53               555 Untitled14.ipynb\n",
      "09-07-2019  15:49             9,204 Untitled15.ipynb\n",
      "09-07-2019  17:04             1,688 Untitled16.ipynb\n",
      "10-07-2019  11:59             1,489 Untitled17.ipynb\n",
      "06-05-2019  04:30                72 Untitled2.ipynb\n",
      "06-05-2019  04:35                72 Untitled3.ipynb\n",
      "06-05-2019  04:41                72 Untitled4.ipynb\n",
      "06-05-2019  04:43                72 Untitled5.ipynb\n",
      "06-05-2019  05:16                72 Untitled6.ipynb\n",
      "14-05-2019  05:31             3,982 Untitled7.ipynb\n",
      "08-05-2019  09:29                72 Untitled8.ipynb\n",
      "09-05-2019  04:42               555 Untitled9.ipynb\n",
      "08-05-2019  08:38    <DIR>          Videos\n",
      "05-01-2017  04:15    <DIR>          workspace\n",
      "              47 File(s)        362,141 bytes\n",
      "              27 Dir(s)  75,251,130,368 bytes free\n"
     ]
    }
   ],
   "source": [
    "ls"
   ]
  },
  {
   "cell_type": "code",
   "execution_count": 17,
   "metadata": {},
   "outputs": [
    {
     "name": "stdout",
     "output_type": "stream",
     "text": [
      "C:\\Users\\240\\Desktop\n"
     ]
    }
   ],
   "source": [
    "cd Desktop"
   ]
  },
  {
   "cell_type": "code",
   "execution_count": 18,
   "metadata": {},
   "outputs": [
    {
     "name": "stdout",
     "output_type": "stream",
     "text": [
      "[WinError 3] The system cannot find the path specified: 'Desktop/PythonProg/Git'\n",
      "C:\\Users\\240\\Desktop\n"
     ]
    }
   ],
   "source": [
    "cd Desktop/PythonProg/Git"
   ]
  },
  {
   "cell_type": "code",
   "execution_count": 19,
   "metadata": {},
   "outputs": [
    {
     "ename": "FileNotFoundError",
     "evalue": "[WinError 3] The system cannot find the path specified: 'Git/'",
     "output_type": "error",
     "traceback": [
      "\u001b[1;31m---------------------------------------------------------------------------\u001b[0m",
      "\u001b[1;31mFileNotFoundError\u001b[0m                         Traceback (most recent call last)",
      "\u001b[1;32m<ipython-input-19-c0b7b42cf694>\u001b[0m in \u001b[0;36m<module>\u001b[1;34m\u001b[0m\n\u001b[0;32m      1\u001b[0m \u001b[1;32mimport\u001b[0m \u001b[0mos\u001b[0m\u001b[1;33m\u001b[0m\u001b[1;33m\u001b[0m\u001b[0m\n\u001b[1;32m----> 2\u001b[1;33m \u001b[0mos\u001b[0m\u001b[1;33m.\u001b[0m\u001b[0mlistdir\u001b[0m\u001b[1;33m(\u001b[0m\u001b[1;34m'Git/'\u001b[0m\u001b[1;33m)\u001b[0m\u001b[1;33m\u001b[0m\u001b[1;33m\u001b[0m\u001b[0m\n\u001b[0m",
      "\u001b[1;31mFileNotFoundError\u001b[0m: [WinError 3] The system cannot find the path specified: 'Git/'"
     ]
    }
   ],
   "source": [
    "import os\n",
    "os.listdir('Git/')"
   ]
  },
  {
   "cell_type": "code",
   "execution_count": 22,
   "metadata": {},
   "outputs": [
    {
     "name": "stdout",
     "output_type": "stream",
     "text": [
      " Volume in drive C has no label.\n",
      " Volume Serial Number is FC0C-0F9A\n",
      "\n",
      " Directory of C:\\Users\\240\n",
      "\n",
      "11-07-2019  12:42    <DIR>          .\n",
      "11-07-2019  12:42    <DIR>          ..\n",
      "06-05-2019  04:06    <DIR>          .anaconda\n",
      "17-03-2017  05:18               145 .appletviewer\n",
      "26-06-2019  12:25             3,052 .bash_history\n",
      "02-11-2017  10:24                 0 .cdtclient\n",
      "09-07-2019  17:06    <DIR>          .conda\n",
      "09-07-2019  16:53                43 .condarc\n",
      "19-06-2019  15:43                55 .gitconfig\n",
      "11-07-2019  09:11    <DIR>          .ipynb_checkpoints\n",
      "06-05-2019  04:12    <DIR>          .ipython\n",
      "08-05-2019  09:19    <DIR>          .jupyter\n",
      "18-05-2019  09:18    <DIR>          .matplotlib\n",
      "07-03-2019  09:51    <DIR>          .oracle_jre_usage\n",
      "22-06-2019  09:15             1,006 .viminfo\n",
      "22-06-2019  09:25    <DIR>          .vscode\n",
      "17-03-2017  09:34                 0 0\n",
      "15-05-2019  12:28             4,351 15-05-2019.ipynb\n",
      "06-05-2019  04:51    <DIR>          Anaconda Python\n",
      "06-05-2019  05:15    <DIR>          Anaconda3\n",
      "10-07-2019  15:14            11,324 Assignment(10-07-2019).ipynb\n",
      "12-12-2016  05:55            36,757 avt.mdl\n",
      "14-12-2016  04:22            31,959 class38.mdl\n",
      "12-12-2016  05:17            21,591 comp.mdl\n",
      "08-05-2019  08:38    <DIR>          Contacts\n",
      "11-07-2019  12:42            21,470 Day-10(11-07-2019).ipynb\n",
      "10-07-2019  12:51             6,830 Day-5(05-07-2019).ipynb\n",
      "08-07-2019  16:09            12,080 Day-7.ipynb\n",
      "08-07-2019  16:10            12,080 Day-7_Python.ipynb\n",
      "10-07-2019  09:20            13,946 Day-8_Python.ipynb\n",
      "10-07-2019  16:40            24,108 Day-9(10-07-2019).ipynb\n",
      "12-12-2016  04:53            46,808 demo seq.md~\n",
      "12-12-2016  04:54            46,820 demo seq.mdl\n",
      "12-12-2016  04:24            30,092 demo.mdl\n",
      "11-07-2019  12:27    <DIR>          Desktop\n",
      "19-06-2019  16:05    <DIR>          Documents\n",
      "10-07-2019  17:13    <DIR>          Downloads\n",
      "08-05-2019  08:38    <DIR>          Favorites\n",
      "11-07-2019  09:51                12 file1.txt\n",
      "11-07-2019  10:18               196 file2.txt\n",
      "11-07-2019  10:27                16 file3.txt\n",
      "08-05-2019  08:38    <DIR>          Links\n",
      "06-12-2016  04:46                 0 mkdir\n",
      "08-05-2019  08:38    <DIR>          Music\n",
      "27-09-2018  06:24               724 oraclecon.java\n",
      "08-05-2019  08:38    <DIR>          Pictures\n",
      "12-05-2019  06:56    <DIR>          pranathi\n",
      "08-07-2019  15:58            12,080 Python(Day 7)_P1.ipynb\n",
      "08-07-2019  16:44            11,732 Python(Day-6)_P1.ipynb\n",
      "18-05-2019  09:42    <DIR>          PythonNotebooks\n",
      "08-05-2019  08:38    <DIR>          Saved Games\n",
      "08-05-2019  08:38    <DIR>          Searches\n",
      "15-05-2019  06:42                 0 test.py\n",
      "15-05-2019  07:19    <DIR>          Untitled Folder\n",
      "06-05-2019  04:15               548 Untitled.ipynb\n",
      "06-05-2019  04:29                72 Untitled1.ipynb\n",
      "15-05-2019  06:42                72 Untitled10.ipynb\n",
      "16-05-2019  10:47               555 Untitled11.ipynb\n",
      "18-05-2019  05:39             1,229 Untitled12.ipynb\n",
      "06-07-2019  09:21                72 Untitled13.ipynb\n",
      "08-07-2019  16:53               555 Untitled14.ipynb\n",
      "09-07-2019  15:49             9,204 Untitled15.ipynb\n",
      "09-07-2019  17:04             1,688 Untitled16.ipynb\n",
      "10-07-2019  11:59             1,489 Untitled17.ipynb\n",
      "06-05-2019  04:30                72 Untitled2.ipynb\n",
      "06-05-2019  04:35                72 Untitled3.ipynb\n",
      "06-05-2019  04:41                72 Untitled4.ipynb\n",
      "06-05-2019  04:43                72 Untitled5.ipynb\n",
      "06-05-2019  05:16                72 Untitled6.ipynb\n",
      "14-05-2019  05:31             3,982 Untitled7.ipynb\n",
      "08-05-2019  09:29                72 Untitled8.ipynb\n",
      "09-05-2019  04:42               555 Untitled9.ipynb\n",
      "08-05-2019  08:38    <DIR>          Videos\n",
      "05-01-2017  04:15    <DIR>          workspace\n",
      "              47 File(s)        369,730 bytes\n",
      "              27 Dir(s)  75,249,930,240 bytes free\n"
     ]
    }
   ],
   "source": [
    "ls"
   ]
  },
  {
   "cell_type": "code",
   "execution_count": 23,
   "metadata": {},
   "outputs": [
    {
     "ename": "FileNotFoundError",
     "evalue": "[WinError 3] The system cannot find the path specified: 'Git/'",
     "output_type": "error",
     "traceback": [
      "\u001b[1;31m---------------------------------------------------------------------------\u001b[0m",
      "\u001b[1;31mFileNotFoundError\u001b[0m                         Traceback (most recent call last)",
      "\u001b[1;32m<ipython-input-23-4dc5ed2bc8a1>\u001b[0m in \u001b[0;36m<module>\u001b[1;34m\u001b[0m\n\u001b[1;32m----> 1\u001b[1;33m \u001b[0mli\u001b[0m\u001b[1;33m=\u001b[0m\u001b[0mos\u001b[0m\u001b[1;33m.\u001b[0m\u001b[0mlistdir\u001b[0m\u001b[1;33m(\u001b[0m\u001b[1;34m'Git/'\u001b[0m\u001b[1;33m)\u001b[0m\u001b[1;33m\u001b[0m\u001b[1;33m\u001b[0m\u001b[0m\n\u001b[0m\u001b[0;32m      2\u001b[0m \u001b[1;32mfor\u001b[0m \u001b[0mi\u001b[0m \u001b[1;32min\u001b[0m \u001b[0mli\u001b[0m\u001b[1;33m:\u001b[0m\u001b[1;33m\u001b[0m\u001b[1;33m\u001b[0m\u001b[0m\n\u001b[0;32m      3\u001b[0m     \u001b[0mprint\u001b[0m\u001b[1;33m(\u001b[0m\u001b[0mi\u001b[0m\u001b[1;33m)\u001b[0m\u001b[1;33m\u001b[0m\u001b[1;33m\u001b[0m\u001b[0m\n",
      "\u001b[1;31mFileNotFoundError\u001b[0m: [WinError 3] The system cannot find the path specified: 'Git/'"
     ]
    }
   ],
   "source": [
    "li=os.listdir('Git/')\n",
    "for i in li:\n",
    "    print(i)"
   ]
  },
  {
   "cell_type": "markdown",
   "metadata": {},
   "source": [
    "- Older version of Python -- os.listdir()\n",
    "- New version of Python -- os.scandir() and pathlib.Path()"
   ]
  },
  {
   "cell_type": "code",
   "execution_count": 26,
   "metadata": {},
   "outputs": [
    {
     "ename": "FileNotFoundError",
     "evalue": "[WinError 3] The system cannot find the path specified: 'Git'",
     "output_type": "error",
     "traceback": [
      "\u001b[1;31m---------------------------------------------------------------------------\u001b[0m",
      "\u001b[1;31mFileNotFoundError\u001b[0m                         Traceback (most recent call last)",
      "\u001b[1;32m<ipython-input-26-361b913f4255>\u001b[0m in \u001b[0;36m<module>\u001b[1;34m\u001b[0m\n\u001b[0;32m      1\u001b[0m \u001b[1;32mfrom\u001b[0m \u001b[0mpathlib\u001b[0m \u001b[1;32mimport\u001b[0m \u001b[0mPath\u001b[0m\u001b[1;33m\u001b[0m\u001b[1;33m\u001b[0m\u001b[0m\n\u001b[0;32m      2\u001b[0m \u001b[0mli\u001b[0m \u001b[1;33m=\u001b[0m \u001b[0mPath\u001b[0m\u001b[1;33m(\u001b[0m\u001b[1;34m'Git/'\u001b[0m\u001b[1;33m)\u001b[0m\u001b[1;33m\u001b[0m\u001b[1;33m\u001b[0m\u001b[0m\n\u001b[1;32m----> 3\u001b[1;33m \u001b[1;32mfor\u001b[0m \u001b[0mi\u001b[0m \u001b[1;32min\u001b[0m \u001b[0mli\u001b[0m\u001b[1;33m.\u001b[0m\u001b[0miterdir\u001b[0m\u001b[1;33m(\u001b[0m\u001b[1;33m)\u001b[0m\u001b[1;33m:\u001b[0m\u001b[1;33m\u001b[0m\u001b[1;33m\u001b[0m\u001b[0m\n\u001b[0m\u001b[0;32m      4\u001b[0m     \u001b[0mprint\u001b[0m\u001b[1;33m(\u001b[0m\u001b[0mi\u001b[0m\u001b[1;33m.\u001b[0m\u001b[0mname\u001b[0m\u001b[1;33m)\u001b[0m\u001b[1;33m\u001b[0m\u001b[1;33m\u001b[0m\u001b[0m\n",
      "\u001b[1;32m~\\Anaconda3\\lib\\pathlib.py\u001b[0m in \u001b[0;36miterdir\u001b[1;34m(self)\u001b[0m\n\u001b[0;32m   1081\u001b[0m         \u001b[1;32mif\u001b[0m \u001b[0mself\u001b[0m\u001b[1;33m.\u001b[0m\u001b[0m_closed\u001b[0m\u001b[1;33m:\u001b[0m\u001b[1;33m\u001b[0m\u001b[1;33m\u001b[0m\u001b[0m\n\u001b[0;32m   1082\u001b[0m             \u001b[0mself\u001b[0m\u001b[1;33m.\u001b[0m\u001b[0m_raise_closed\u001b[0m\u001b[1;33m(\u001b[0m\u001b[1;33m)\u001b[0m\u001b[1;33m\u001b[0m\u001b[1;33m\u001b[0m\u001b[0m\n\u001b[1;32m-> 1083\u001b[1;33m         \u001b[1;32mfor\u001b[0m \u001b[0mname\u001b[0m \u001b[1;32min\u001b[0m \u001b[0mself\u001b[0m\u001b[1;33m.\u001b[0m\u001b[0m_accessor\u001b[0m\u001b[1;33m.\u001b[0m\u001b[0mlistdir\u001b[0m\u001b[1;33m(\u001b[0m\u001b[0mself\u001b[0m\u001b[1;33m)\u001b[0m\u001b[1;33m:\u001b[0m\u001b[1;33m\u001b[0m\u001b[1;33m\u001b[0m\u001b[0m\n\u001b[0m\u001b[0;32m   1084\u001b[0m             \u001b[1;32mif\u001b[0m \u001b[0mname\u001b[0m \u001b[1;32min\u001b[0m \u001b[1;33m{\u001b[0m\u001b[1;34m'.'\u001b[0m\u001b[1;33m,\u001b[0m \u001b[1;34m'..'\u001b[0m\u001b[1;33m}\u001b[0m\u001b[1;33m:\u001b[0m\u001b[1;33m\u001b[0m\u001b[1;33m\u001b[0m\u001b[0m\n\u001b[0;32m   1085\u001b[0m                 \u001b[1;31m# Yielding a path object for these makes little sense\u001b[0m\u001b[1;33m\u001b[0m\u001b[1;33m\u001b[0m\u001b[1;33m\u001b[0m\u001b[0m\n",
      "\u001b[1;31mFileNotFoundError\u001b[0m: [WinError 3] The system cannot find the path specified: 'Git'"
     ]
    }
   ],
   "source": [
    "from pathlib import Path\n",
    "li = Path('Git/')\n",
    "for i in li.iterdir():\n",
    "    print(i.name)"
   ]
  },
  {
   "cell_type": "markdown",
   "metadata": {},
   "source": [
    "### Listing all files in a directory"
   ]
  },
  {
   "cell_type": "code",
   "execution_count": 28,
   "metadata": {},
   "outputs": [
    {
     "ename": "FileNotFoundError",
     "evalue": "[WinError 3] The system cannot find the path specified: 'Git/'",
     "output_type": "error",
     "traceback": [
      "\u001b[1;31m---------------------------------------------------------------------------\u001b[0m",
      "\u001b[1;31mFileNotFoundError\u001b[0m                         Traceback (most recent call last)",
      "\u001b[1;32m<ipython-input-28-5b8dd54c222d>\u001b[0m in \u001b[0;36m<module>\u001b[1;34m\u001b[0m\n\u001b[0;32m      1\u001b[0m \u001b[1;32mimport\u001b[0m \u001b[0mos\u001b[0m\u001b[1;33m\u001b[0m\u001b[1;33m\u001b[0m\u001b[0m\n\u001b[0;32m      2\u001b[0m \u001b[0mdirPath\u001b[0m \u001b[1;33m=\u001b[0m\u001b[1;34m\"Git/\"\u001b[0m\u001b[1;33m\u001b[0m\u001b[1;33m\u001b[0m\u001b[0m\n\u001b[1;32m----> 3\u001b[1;33m \u001b[1;32mfor\u001b[0m \u001b[0mi\u001b[0m \u001b[1;32min\u001b[0m \u001b[0mos\u001b[0m\u001b[1;33m.\u001b[0m\u001b[0mlistdir\u001b[0m\u001b[1;33m(\u001b[0m\u001b[0mdirPath\u001b[0m\u001b[1;33m)\u001b[0m\u001b[1;33m:\u001b[0m\u001b[1;33m\u001b[0m\u001b[1;33m\u001b[0m\u001b[0m\n\u001b[0m\u001b[0;32m      4\u001b[0m     \u001b[1;32mif\u001b[0m \u001b[0mos\u001b[0m\u001b[1;33m.\u001b[0m\u001b[0mpath\u001b[0m\u001b[1;33m.\u001b[0m\u001b[0misfile\u001b[0m\u001b[1;33m(\u001b[0m\u001b[0mos\u001b[0m\u001b[1;33m.\u001b[0m\u001b[0mpath\u001b[0m\u001b[1;33m.\u001b[0m\u001b[0mjoin\u001b[0m\u001b[1;33m(\u001b[0m\u001b[0mdirPath\u001b[0m\u001b[1;33m,\u001b[0m\u001b[0mi\u001b[0m\u001b[1;33m)\u001b[0m\u001b[1;33m)\u001b[0m\u001b[1;33m:\u001b[0m\u001b[1;33m\u001b[0m\u001b[1;33m\u001b[0m\u001b[0m\n\u001b[0;32m      5\u001b[0m         \u001b[0mprint\u001b[0m\u001b[1;33m(\u001b[0m\u001b[0mi\u001b[0m\u001b[1;33m)\u001b[0m\u001b[1;33m\u001b[0m\u001b[1;33m\u001b[0m\u001b[0m\n",
      "\u001b[1;31mFileNotFoundError\u001b[0m: [WinError 3] The system cannot find the path specified: 'Git/'"
     ]
    }
   ],
   "source": [
    "import os\n",
    "dirPath =\"Git/\"\n",
    "for i in os.listdir(dirPath):\n",
    "    if os.path.isfile(os.path.join(dirPath,i)):\n",
    "        print(i)"
   ]
  },
  {
   "cell_type": "markdown",
   "metadata": {},
   "source": [
    "### Listing Subdirectories"
   ]
  },
  {
   "cell_type": "code",
   "execution_count": 29,
   "metadata": {},
   "outputs": [
    {
     "ename": "FileNotFoundError",
     "evalue": "[WinError 3] The system cannot find the path specified: 'Git/'",
     "output_type": "error",
     "traceback": [
      "\u001b[1;31m---------------------------------------------------------------------------\u001b[0m",
      "\u001b[1;31mFileNotFoundError\u001b[0m                         Traceback (most recent call last)",
      "\u001b[1;32m<ipython-input-29-51b45818fcaa>\u001b[0m in \u001b[0;36m<module>\u001b[1;34m\u001b[0m\n\u001b[0;32m      1\u001b[0m \u001b[0mdirPath\u001b[0m \u001b[1;33m=\u001b[0m\u001b[1;34m'Git/'\u001b[0m\u001b[1;33m\u001b[0m\u001b[1;33m\u001b[0m\u001b[0m\n\u001b[1;32m----> 2\u001b[1;33m \u001b[1;32mfor\u001b[0m \u001b[0mi\u001b[0m \u001b[1;32min\u001b[0m \u001b[0mos\u001b[0m\u001b[1;33m.\u001b[0m\u001b[0mlistdir\u001b[0m\u001b[1;33m(\u001b[0m\u001b[0mdirPath\u001b[0m\u001b[1;33m)\u001b[0m\u001b[1;33m:\u001b[0m\u001b[1;33m\u001b[0m\u001b[1;33m\u001b[0m\u001b[0m\n\u001b[0m\u001b[0;32m      3\u001b[0m     \u001b[1;32mif\u001b[0m \u001b[0mos\u001b[0m\u001b[1;33m.\u001b[0m\u001b[0mpath\u001b[0m\u001b[1;33m.\u001b[0m\u001b[0misdir\u001b[0m\u001b[1;33m(\u001b[0m\u001b[0mos\u001b[0m\u001b[1;33m.\u001b[0m\u001b[0mpath\u001b[0m\u001b[1;33m.\u001b[0m\u001b[0mjoin\u001b[0m\u001b[1;33m(\u001b[0m\u001b[0mdirPath\u001b[0m\u001b[1;33m,\u001b[0m\u001b[0mi\u001b[0m\u001b[1;33m)\u001b[0m\u001b[1;33m)\u001b[0m\u001b[1;33m:\u001b[0m\u001b[1;33m\u001b[0m\u001b[1;33m\u001b[0m\u001b[0m\n\u001b[0;32m      4\u001b[0m         \u001b[0mprint\u001b[0m\u001b[1;33m(\u001b[0m\u001b[0mi\u001b[0m\u001b[1;33m)\u001b[0m\u001b[1;33m\u001b[0m\u001b[1;33m\u001b[0m\u001b[0m\n",
      "\u001b[1;31mFileNotFoundError\u001b[0m: [WinError 3] The system cannot find the path specified: 'Git/'"
     ]
    }
   ],
   "source": [
    "dirPath ='Git/'\n",
    "for i in os.listdir(dirPath):\n",
    "    if os.path.isdir(os.path.join(dirPath,i)):\n",
    "        print(i)"
   ]
  },
  {
   "cell_type": "code",
   "execution_count": 30,
   "metadata": {},
   "outputs": [
    {
     "ename": "FileNotFoundError",
     "evalue": "[WinError 3] The system cannot find the path specified: 'Git'",
     "output_type": "error",
     "traceback": [
      "\u001b[1;31m---------------------------------------------------------------------------\u001b[0m",
      "\u001b[1;31mFileNotFoundError\u001b[0m                         Traceback (most recent call last)",
      "\u001b[1;32m<ipython-input-30-a19918820d90>\u001b[0m in \u001b[0;36m<module>\u001b[1;34m\u001b[0m\n\u001b[0;32m      1\u001b[0m \u001b[1;32mfrom\u001b[0m \u001b[0mpathlib\u001b[0m \u001b[1;32mimport\u001b[0m \u001b[0mPath\u001b[0m\u001b[1;33m\u001b[0m\u001b[1;33m\u001b[0m\u001b[0m\n\u001b[0;32m      2\u001b[0m \u001b[0mdirPath\u001b[0m \u001b[1;33m=\u001b[0m \u001b[0mPath\u001b[0m\u001b[1;33m(\u001b[0m\u001b[1;34m'Git/'\u001b[0m\u001b[1;33m)\u001b[0m\u001b[1;33m\u001b[0m\u001b[1;33m\u001b[0m\u001b[0m\n\u001b[1;32m----> 3\u001b[1;33m \u001b[1;32mfor\u001b[0m \u001b[0mi\u001b[0m \u001b[1;32min\u001b[0m \u001b[0mdirPath\u001b[0m\u001b[1;33m.\u001b[0m\u001b[0miterdir\u001b[0m\u001b[1;33m(\u001b[0m\u001b[1;33m)\u001b[0m\u001b[1;33m:\u001b[0m\u001b[1;33m\u001b[0m\u001b[1;33m\u001b[0m\u001b[0m\n\u001b[0m\u001b[0;32m      4\u001b[0m     \u001b[1;32mif\u001b[0m \u001b[0mi\u001b[0m\u001b[1;33m.\u001b[0m\u001b[0mis_dir\u001b[0m\u001b[1;33m(\u001b[0m\u001b[1;33m)\u001b[0m\u001b[1;33m:\u001b[0m\u001b[1;33m\u001b[0m\u001b[1;33m\u001b[0m\u001b[0m\n\u001b[0;32m      5\u001b[0m         \u001b[0mprint\u001b[0m\u001b[1;33m(\u001b[0m\u001b[0mi\u001b[0m\u001b[1;33m.\u001b[0m\u001b[0mname\u001b[0m\u001b[1;33m)\u001b[0m\u001b[1;33m\u001b[0m\u001b[1;33m\u001b[0m\u001b[0m\n",
      "\u001b[1;32m~\\Anaconda3\\lib\\pathlib.py\u001b[0m in \u001b[0;36miterdir\u001b[1;34m(self)\u001b[0m\n\u001b[0;32m   1081\u001b[0m         \u001b[1;32mif\u001b[0m \u001b[0mself\u001b[0m\u001b[1;33m.\u001b[0m\u001b[0m_closed\u001b[0m\u001b[1;33m:\u001b[0m\u001b[1;33m\u001b[0m\u001b[1;33m\u001b[0m\u001b[0m\n\u001b[0;32m   1082\u001b[0m             \u001b[0mself\u001b[0m\u001b[1;33m.\u001b[0m\u001b[0m_raise_closed\u001b[0m\u001b[1;33m(\u001b[0m\u001b[1;33m)\u001b[0m\u001b[1;33m\u001b[0m\u001b[1;33m\u001b[0m\u001b[0m\n\u001b[1;32m-> 1083\u001b[1;33m         \u001b[1;32mfor\u001b[0m \u001b[0mname\u001b[0m \u001b[1;32min\u001b[0m \u001b[0mself\u001b[0m\u001b[1;33m.\u001b[0m\u001b[0m_accessor\u001b[0m\u001b[1;33m.\u001b[0m\u001b[0mlistdir\u001b[0m\u001b[1;33m(\u001b[0m\u001b[0mself\u001b[0m\u001b[1;33m)\u001b[0m\u001b[1;33m:\u001b[0m\u001b[1;33m\u001b[0m\u001b[1;33m\u001b[0m\u001b[0m\n\u001b[0m\u001b[0;32m   1084\u001b[0m             \u001b[1;32mif\u001b[0m \u001b[0mname\u001b[0m \u001b[1;32min\u001b[0m \u001b[1;33m{\u001b[0m\u001b[1;34m'.'\u001b[0m\u001b[1;33m,\u001b[0m \u001b[1;34m'..'\u001b[0m\u001b[1;33m}\u001b[0m\u001b[1;33m:\u001b[0m\u001b[1;33m\u001b[0m\u001b[1;33m\u001b[0m\u001b[0m\n\u001b[0;32m   1085\u001b[0m                 \u001b[1;31m# Yielding a path object for these makes little sense\u001b[0m\u001b[1;33m\u001b[0m\u001b[1;33m\u001b[0m\u001b[1;33m\u001b[0m\u001b[0m\n",
      "\u001b[1;31mFileNotFoundError\u001b[0m: [WinError 3] The system cannot find the path specified: 'Git'"
     ]
    }
   ],
   "source": [
    "from pathlib import Path\n",
    "dirPath = Path('Git/')\n",
    "for i in dirPath.iterdir():\n",
    "    if i.is_dir():\n",
    "        print(i.name)"
   ]
  },
  {
   "cell_type": "markdown",
   "metadata": {},
   "source": [
    "### Creating  a Single Directory\n"
   ]
  },
  {
   "cell_type": "code",
   "execution_count": 32,
   "metadata": {},
   "outputs": [
    {
     "ename": "FileExistsError",
     "evalue": "[WinError 183] Cannot create a file when that file already exists: 'SingleDirectory'",
     "output_type": "error",
     "traceback": [
      "\u001b[1;31m---------------------------------------------------------------------------\u001b[0m",
      "\u001b[1;31mFileExistsError\u001b[0m                           Traceback (most recent call last)",
      "\u001b[1;32m<ipython-input-32-74cba89addaa>\u001b[0m in \u001b[0;36m<module>\u001b[1;34m\u001b[0m\n\u001b[0;32m      1\u001b[0m \u001b[1;32mimport\u001b[0m \u001b[0mos\u001b[0m\u001b[1;33m\u001b[0m\u001b[1;33m\u001b[0m\u001b[0m\n\u001b[1;32m----> 2\u001b[1;33m \u001b[0mos\u001b[0m\u001b[1;33m.\u001b[0m\u001b[0mmkdir\u001b[0m\u001b[1;33m(\u001b[0m\u001b[1;34m'SingleDirectory'\u001b[0m\u001b[1;33m)\u001b[0m\u001b[1;33m\u001b[0m\u001b[1;33m\u001b[0m\u001b[0m\n\u001b[0m",
      "\u001b[1;31mFileExistsError\u001b[0m: [WinError 183] Cannot create a file when that file already exists: 'SingleDirectory'"
     ]
    }
   ],
   "source": [
    "import os\n",
    "os.mkdir('SingleDirectory')"
   ]
  },
  {
   "cell_type": "code",
   "execution_count": 34,
   "metadata": {},
   "outputs": [
    {
     "ename": "FileExistsError",
     "evalue": "[WinError 183] Cannot create a file when that file already exists: 'TestFolder'",
     "output_type": "error",
     "traceback": [
      "\u001b[1;31m---------------------------------------------------------------------------\u001b[0m",
      "\u001b[1;31mFileExistsError\u001b[0m                           Traceback (most recent call last)",
      "\u001b[1;32m<ipython-input-34-2540bb742588>\u001b[0m in \u001b[0;36m<module>\u001b[1;34m\u001b[0m\n\u001b[0;32m      1\u001b[0m \u001b[1;32mimport\u001b[0m \u001b[0mpathlib\u001b[0m\u001b[1;33m\u001b[0m\u001b[1;33m\u001b[0m\u001b[0m\n\u001b[0;32m      2\u001b[0m \u001b[0mp\u001b[0m\u001b[1;33m=\u001b[0m\u001b[0mpathlib\u001b[0m\u001b[1;33m.\u001b[0m\u001b[0mPath\u001b[0m\u001b[1;33m(\u001b[0m\u001b[1;34m'TestFolder'\u001b[0m\u001b[1;33m)\u001b[0m\u001b[1;33m\u001b[0m\u001b[1;33m\u001b[0m\u001b[0m\n\u001b[1;32m----> 3\u001b[1;33m \u001b[0mp\u001b[0m\u001b[1;33m.\u001b[0m\u001b[0mmkdir\u001b[0m\u001b[1;33m(\u001b[0m\u001b[1;33m)\u001b[0m\u001b[1;33m\u001b[0m\u001b[1;33m\u001b[0m\u001b[0m\n\u001b[0m",
      "\u001b[1;32m~\\Anaconda3\\lib\\pathlib.py\u001b[0m in \u001b[0;36mmkdir\u001b[1;34m(self, mode, parents, exist_ok)\u001b[0m\n\u001b[0;32m   1249\u001b[0m             \u001b[0mself\u001b[0m\u001b[1;33m.\u001b[0m\u001b[0m_raise_closed\u001b[0m\u001b[1;33m(\u001b[0m\u001b[1;33m)\u001b[0m\u001b[1;33m\u001b[0m\u001b[1;33m\u001b[0m\u001b[0m\n\u001b[0;32m   1250\u001b[0m         \u001b[1;32mtry\u001b[0m\u001b[1;33m:\u001b[0m\u001b[1;33m\u001b[0m\u001b[1;33m\u001b[0m\u001b[0m\n\u001b[1;32m-> 1251\u001b[1;33m             \u001b[0mself\u001b[0m\u001b[1;33m.\u001b[0m\u001b[0m_accessor\u001b[0m\u001b[1;33m.\u001b[0m\u001b[0mmkdir\u001b[0m\u001b[1;33m(\u001b[0m\u001b[0mself\u001b[0m\u001b[1;33m,\u001b[0m \u001b[0mmode\u001b[0m\u001b[1;33m)\u001b[0m\u001b[1;33m\u001b[0m\u001b[1;33m\u001b[0m\u001b[0m\n\u001b[0m\u001b[0;32m   1252\u001b[0m         \u001b[1;32mexcept\u001b[0m \u001b[0mFileNotFoundError\u001b[0m\u001b[1;33m:\u001b[0m\u001b[1;33m\u001b[0m\u001b[1;33m\u001b[0m\u001b[0m\n\u001b[0;32m   1253\u001b[0m             \u001b[1;32mif\u001b[0m \u001b[1;32mnot\u001b[0m \u001b[0mparents\u001b[0m \u001b[1;32mor\u001b[0m \u001b[0mself\u001b[0m\u001b[1;33m.\u001b[0m\u001b[0mparent\u001b[0m \u001b[1;33m==\u001b[0m \u001b[0mself\u001b[0m\u001b[1;33m:\u001b[0m\u001b[1;33m\u001b[0m\u001b[1;33m\u001b[0m\u001b[0m\n",
      "\u001b[1;31mFileExistsError\u001b[0m: [WinError 183] Cannot create a file when that file already exists: 'TestFolder'"
     ]
    }
   ],
   "source": [
    "import pathlib\n",
    "p=pathlib.Path('TestFolder')\n",
    "p.mkdir()"
   ]
  },
  {
   "cell_type": "code",
   "execution_count": 35,
   "metadata": {},
   "outputs": [
    {
     "name": "stdout",
     "output_type": "stream",
     "text": [
      " Volume in drive C has no label.\n",
      " Volume Serial Number is FC0C-0F9A\n",
      "\n",
      " Directory of C:\\Users\\240\n",
      "\n",
      "11-07-2019  14:58    <DIR>          .\n",
      "11-07-2019  14:58    <DIR>          ..\n",
      "06-05-2019  04:06    <DIR>          .anaconda\n",
      "17-03-2017  05:18               145 .appletviewer\n",
      "26-06-2019  12:25             3,052 .bash_history\n",
      "02-11-2017  10:24                 0 .cdtclient\n",
      "09-07-2019  17:06    <DIR>          .conda\n",
      "09-07-2019  16:53                43 .condarc\n",
      "19-06-2019  15:43                55 .gitconfig\n",
      "11-07-2019  09:11    <DIR>          .ipynb_checkpoints\n",
      "06-05-2019  04:12    <DIR>          .ipython\n",
      "08-05-2019  09:19    <DIR>          .jupyter\n",
      "18-05-2019  09:18    <DIR>          .matplotlib\n",
      "07-03-2019  09:51    <DIR>          .oracle_jre_usage\n",
      "22-06-2019  09:15             1,006 .viminfo\n",
      "22-06-2019  09:25    <DIR>          .vscode\n",
      "17-03-2017  09:34                 0 0\n",
      "15-05-2019  12:28             4,351 15-05-2019.ipynb\n",
      "06-05-2019  04:51    <DIR>          Anaconda Python\n",
      "06-05-2019  05:15    <DIR>          Anaconda3\n",
      "10-07-2019  15:14            11,324 Assignment(10-07-2019).ipynb\n",
      "12-12-2016  05:55            36,757 avt.mdl\n",
      "14-12-2016  04:22            31,959 class38.mdl\n",
      "12-12-2016  05:17            21,591 comp.mdl\n",
      "08-05-2019  08:38    <DIR>          Contacts\n",
      "11-07-2019  14:58            42,442 Day-10(11-07-2019).ipynb\n",
      "10-07-2019  12:51             6,830 Day-5(05-07-2019).ipynb\n",
      "08-07-2019  16:09            12,080 Day-7.ipynb\n",
      "08-07-2019  16:10            12,080 Day-7_Python.ipynb\n",
      "10-07-2019  09:20            13,946 Day-8_Python.ipynb\n",
      "10-07-2019  16:40            24,108 Day-9(10-07-2019).ipynb\n",
      "12-12-2016  04:53            46,808 demo seq.md~\n",
      "12-12-2016  04:54            46,820 demo seq.mdl\n",
      "12-12-2016  04:24            30,092 demo.mdl\n",
      "11-07-2019  12:27    <DIR>          Desktop\n",
      "19-06-2019  16:05    <DIR>          Documents\n",
      "10-07-2019  17:13    <DIR>          Downloads\n",
      "08-05-2019  08:38    <DIR>          Favorites\n",
      "11-07-2019  09:51                12 file1.txt\n",
      "11-07-2019  10:18               196 file2.txt\n",
      "11-07-2019  10:27                16 file3.txt\n",
      "08-05-2019  08:38    <DIR>          Links\n",
      "06-12-2016  04:46                 0 mkdir\n",
      "08-05-2019  08:38    <DIR>          Music\n",
      "27-09-2018  06:24               724 oraclecon.java\n",
      "08-05-2019  08:38    <DIR>          Pictures\n",
      "12-05-2019  06:56    <DIR>          pranathi\n",
      "08-07-2019  15:58            12,080 Python(Day 7)_P1.ipynb\n",
      "08-07-2019  16:44            11,732 Python(Day-6)_P1.ipynb\n",
      "18-05-2019  09:42    <DIR>          PythonNotebooks\n",
      "08-05-2019  08:38    <DIR>          Saved Games\n",
      "08-05-2019  08:38    <DIR>          Searches\n",
      "11-07-2019  14:54    <DIR>          SingleDirectory\n",
      "15-05-2019  06:42                 0 test.py\n",
      "11-07-2019  14:55    <DIR>          TestFolder\n",
      "15-05-2019  07:19    <DIR>          Untitled Folder\n",
      "06-05-2019  04:15               548 Untitled.ipynb\n",
      "06-05-2019  04:29                72 Untitled1.ipynb\n",
      "15-05-2019  06:42                72 Untitled10.ipynb\n",
      "16-05-2019  10:47               555 Untitled11.ipynb\n",
      "18-05-2019  05:39             1,229 Untitled12.ipynb\n",
      "06-07-2019  09:21                72 Untitled13.ipynb\n",
      "08-07-2019  16:53               555 Untitled14.ipynb\n",
      "09-07-2019  15:49             9,204 Untitled15.ipynb\n",
      "09-07-2019  17:04             1,688 Untitled16.ipynb\n",
      "10-07-2019  11:59             1,489 Untitled17.ipynb\n",
      "06-05-2019  04:30                72 Untitled2.ipynb\n",
      "06-05-2019  04:35                72 Untitled3.ipynb\n",
      "06-05-2019  04:41                72 Untitled4.ipynb\n",
      "06-05-2019  04:43                72 Untitled5.ipynb\n",
      "06-05-2019  05:16                72 Untitled6.ipynb\n",
      "14-05-2019  05:31             3,982 Untitled7.ipynb\n",
      "08-05-2019  09:29                72 Untitled8.ipynb\n",
      "09-05-2019  04:42               555 Untitled9.ipynb\n",
      "08-05-2019  08:38    <DIR>          Videos\n",
      "05-01-2017  04:15    <DIR>          workspace\n",
      "              47 File(s)        390,702 bytes\n",
      "              29 Dir(s)  75,240,255,488 bytes free\n"
     ]
    }
   ],
   "source": [
    "ls"
   ]
  },
  {
   "cell_type": "markdown",
   "metadata": {},
   "source": [
    "### Creating Multiple Directories"
   ]
  },
  {
   "cell_type": "code",
   "execution_count": 37,
   "metadata": {},
   "outputs": [],
   "source": [
    "import os\n",
    "os.makedirs('2019/July/11')"
   ]
  },
  {
   "cell_type": "code",
   "execution_count": 39,
   "metadata": {},
   "outputs": [
    {
     "ename": "FileNotFoundError",
     "evalue": "[WinError 3] The system cannot find the path specified: 'Git/'",
     "output_type": "error",
     "traceback": [
      "\u001b[1;31m---------------------------------------------------------------------------\u001b[0m",
      "\u001b[1;31mFileNotFoundError\u001b[0m                         Traceback (most recent call last)",
      "\u001b[1;32m<ipython-input-39-dd7516e79799>\u001b[0m in \u001b[0;36m<module>\u001b[1;34m\u001b[0m\n\u001b[0;32m      1\u001b[0m \u001b[1;32mimport\u001b[0m \u001b[0mos\u001b[0m\u001b[1;33m\u001b[0m\u001b[1;33m\u001b[0m\u001b[0m\n\u001b[0;32m      2\u001b[0m \u001b[0mdirPath\u001b[0m \u001b[1;33m=\u001b[0m \u001b[1;34m'Git/'\u001b[0m\u001b[1;33m\u001b[0m\u001b[1;33m\u001b[0m\u001b[0m\n\u001b[1;32m----> 3\u001b[1;33m \u001b[1;32mfor\u001b[0m \u001b[0mf_name\u001b[0m \u001b[1;32min\u001b[0m \u001b[0mos\u001b[0m\u001b[1;33m.\u001b[0m\u001b[0mlistdir\u001b[0m\u001b[1;33m(\u001b[0m\u001b[0mdirPath\u001b[0m\u001b[1;33m)\u001b[0m\u001b[1;33m:\u001b[0m\u001b[1;33m\u001b[0m\u001b[1;33m\u001b[0m\u001b[0m\n\u001b[0m\u001b[0;32m      4\u001b[0m     \u001b[1;32mif\u001b[0m \u001b[0mf_name\u001b[0m\u001b[1;33m.\u001b[0m\u001b[0mendswith\u001b[0m\u001b[1;33m(\u001b[0m\u001b[1;34m'.ipynb'\u001b[0m\u001b[1;33m)\u001b[0m\u001b[1;33m:\u001b[0m\u001b[1;33m\u001b[0m\u001b[1;33m\u001b[0m\u001b[0m\n\u001b[0;32m      5\u001b[0m         \u001b[0mprint\u001b[0m\u001b[1;33m(\u001b[0m\u001b[0mf_name\u001b[0m\u001b[1;33m)\u001b[0m\u001b[1;33m\u001b[0m\u001b[1;33m\u001b[0m\u001b[0m\n",
      "\u001b[1;31mFileNotFoundError\u001b[0m: [WinError 3] The system cannot find the path specified: 'Git/'"
     ]
    }
   ],
   "source": [
    "import os\n",
    "dirPath = 'Git/'\n",
    "for f_name in os.listdir(dirPath):\n",
    "    if f_name.endswith('.ipynb'):\n",
    "        print(f_name)"
   ]
  },
  {
   "cell_type": "code",
   "execution_count": 41,
   "metadata": {},
   "outputs": [
    {
     "ename": "FileNotFoundError",
     "evalue": "[WinError 3] The system cannot find the path specified: 'Git/'",
     "output_type": "error",
     "traceback": [
      "\u001b[1;31m---------------------------------------------------------------------------\u001b[0m",
      "\u001b[1;31mFileNotFoundError\u001b[0m                         Traceback (most recent call last)",
      "\u001b[1;32m<ipython-input-41-f1844c0c2ce7>\u001b[0m in \u001b[0;36m<module>\u001b[1;34m\u001b[0m\n\u001b[0;32m      1\u001b[0m \u001b[1;32mimport\u001b[0m \u001b[0mos\u001b[0m\u001b[1;33m\u001b[0m\u001b[1;33m\u001b[0m\u001b[0m\n\u001b[0;32m      2\u001b[0m \u001b[0mdirPath\u001b[0m \u001b[1;33m=\u001b[0m \u001b[1;34m'Git/'\u001b[0m\u001b[1;33m\u001b[0m\u001b[1;33m\u001b[0m\u001b[0m\n\u001b[1;32m----> 3\u001b[1;33m \u001b[1;32mfor\u001b[0m \u001b[0mf_name\u001b[0m \u001b[1;32min\u001b[0m \u001b[0mos\u001b[0m\u001b[1;33m.\u001b[0m\u001b[0mlistdir\u001b[0m\u001b[1;33m(\u001b[0m\u001b[0mdirPath\u001b[0m\u001b[1;33m)\u001b[0m\u001b[1;33m:\u001b[0m\u001b[1;33m\u001b[0m\u001b[1;33m\u001b[0m\u001b[0m\n\u001b[0m\u001b[0;32m      4\u001b[0m     \u001b[1;32mif\u001b[0m \u001b[0mf_name\u001b[0m\u001b[1;33m.\u001b[0m\u001b[0mstartswith\u001b[0m\u001b[1;33m(\u001b[0m\u001b[1;34m'0'\u001b[0m\u001b[1;33m)\u001b[0m\u001b[1;33m:\u001b[0m\u001b[1;33m\u001b[0m\u001b[1;33m\u001b[0m\u001b[0m\n\u001b[0;32m      5\u001b[0m         \u001b[0mprint\u001b[0m\u001b[1;33m(\u001b[0m\u001b[0mf_name\u001b[0m\u001b[1;33m)\u001b[0m\u001b[1;33m\u001b[0m\u001b[1;33m\u001b[0m\u001b[0m\n",
      "\u001b[1;31mFileNotFoundError\u001b[0m: [WinError 3] The system cannot find the path specified: 'Git/'"
     ]
    }
   ],
   "source": [
    "import os\n",
    "dirPath = 'Git/'\n",
    "for f_name in os.listdir(dirPath):\n",
    "    if f_name.startswith('0'):\n",
    "        print(f_name)"
   ]
  },
  {
   "cell_type": "markdown",
   "metadata": {},
   "source": [
    "### Deleting files and Directories"
   ]
  },
  {
   "cell_type": "code",
   "execution_count": 44,
   "metadata": {},
   "outputs": [],
   "source": [
    "import os\n",
    "data_file = 'file3.txt' \n",
    "os.remove(data_file)"
   ]
  },
  {
   "cell_type": "code",
   "execution_count": 45,
   "metadata": {},
   "outputs": [],
   "source": [
    "data_dir = 'TestFolder'\n",
    "os.rmdir(data_dir)"
   ]
  },
  {
   "cell_type": "code",
   "execution_count": 46,
   "metadata": {},
   "outputs": [],
   "source": [
    "import shutil\n",
    "data_dir= '2019'\n",
    "shutil.rmtree(data_dir)"
   ]
  },
  {
   "cell_type": "markdown",
   "metadata": {},
   "source": [
    " ### Regular Expressions\n",
    " - Used to specific Pattern Matching\n",
    " - Symbolic notations of Pattern"
   ]
  },
  {
   "cell_type": "code",
   "execution_count": null,
   "metadata": {},
   "outputs": [],
   "source": []
  },
  {
   "cell_type": "code",
   "execution_count": null,
   "metadata": {},
   "outputs": [],
   "source": []
  },
  {
   "cell_type": "code",
   "execution_count": null,
   "metadata": {},
   "outputs": [],
   "source": []
  }
 ],
 "metadata": {
  "kernelspec": {
   "display_name": "Python 3",
   "language": "python",
   "name": "python3"
  },
  "language_info": {
   "codemirror_mode": {
    "name": "ipython",
    "version": 3
   },
   "file_extension": ".py",
   "mimetype": "text/x-python",
   "name": "python",
   "nbconvert_exporter": "python",
   "pygments_lexer": "ipython3",
   "version": "3.7.3"
  }
 },
 "nbformat": 4,
 "nbformat_minor": 2
}
